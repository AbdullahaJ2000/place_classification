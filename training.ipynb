{
 "cells": [
  {
   "cell_type": "code",
   "execution_count": null,
   "metadata": {},
   "outputs": [],
   "source": [
    "import modelAPI\n",
    "import tf2onnx\n",
    "import onnx"
   ]
  },
  {
   "cell_type": "code",
   "execution_count": null,
   "metadata": {},
   "outputs": [],
   "source": [
    "train_path = \"Data/train/\"\n",
    "test_path = \"Data/val/\""
   ]
  },
  {
   "cell_type": "code",
   "execution_count": null,
   "metadata": {},
   "outputs": [],
   "source": [
    "numberOfClass,train_data,test_data = modelAPI.class_number_and_data(train_path,test_path,augmentation=True)"
   ]
  },
  {
   "cell_type": "code",
   "execution_count": null,
   "metadata": {},
   "outputs": [],
   "source": [
    "def inceptionv3_model():\n",
    "    model = modelAPI.inceptionv3_model_create(numberOfClass)\n",
    "    model.compile(loss='categorical_crossentropy', optimizer='adam', metrics=['accuracy'])\n",
    "    batch_size = 32\n",
    "    checkpoint_best,checkpoint_last = modelAPI.creat_checkpoint(\"InceptionV3\")\n",
    "    hist = model.fit_generator(train_data, validation_data=test_data, epochs=100, callbacks=[checkpoint_best, checkpoint_last])\n",
    "    modelAPI.accuracy_plt(hist)\n",
    "    modelAPI.loss_plt(hist)\n",
    "    modelAPI.save_model(model,\"inceptionv3.h5\")"
   ]
  },
  {
   "cell_type": "code",
   "execution_count": null,
   "metadata": {},
   "outputs": [],
   "source": [
    "def resnet50_model():\n",
    "    model = modelAPI.resnet50_model_create(numberOfClass)\n",
    "    model.compile(loss='categorical_crossentropy', optimizer='adam', metrics=['accuracy'])\n",
    "    batch_size = 32\n",
    "    checkpoint_best,checkpoint_last = modelAPI.creat_checkpoint(\"ResNet50\")\n",
    "    hist = model.fit_generator(train_data, validation_data=test_data, epochs=100, callbacks=[checkpoint_best, checkpoint_last])\n",
    "    modelAPI.accuracy_plt(hist)\n",
    "    modelAPI.loss_plt(hist)\n",
    "    modelAPI.save_model(model,\"resnet50.h5\")"
   ]
  },
  {
   "cell_type": "code",
   "execution_count": null,
   "metadata": {},
   "outputs": [],
   "source": [
    "def vgg19_model():\n",
    "    model = modelAPI.vgg19_model_create(numberOfClass)\n",
    "    model.compile(loss='categorical_crossentropy', optimizer='adam', metrics=['accuracy'])\n",
    "    batch_size = 32\n",
    "    checkpoint_best,checkpoint_last = modelAPI.creat_checkpoint(\"VGG19\")\n",
    "    hist = model.fit_generator(train_data, validation_data=test_data, epochs=100, callbacks=[checkpoint_best, checkpoint_last])\n",
    "    modelAPI.accuracy_plt(hist)\n",
    "    modelAPI.loss_plt(hist)\n",
    "    modelAPI.save_model(model,\"vgg19.h5\")"
   ]
  },
  {
   "cell_type": "code",
   "execution_count": null,
   "metadata": {},
   "outputs": [],
   "source": [
    "def efficientnet_model():\n",
    "    model = modelAPI.efficientnet_model_create(numberOfClass)\n",
    "    model.compile(loss='categorical_crossentropy', optimizer='adam', metrics=['accuracy'])\n",
    "    batch_size = 32\n",
    "    checkpoint_best,checkpoint_last = modelAPI.creat_checkpoint(\"EfficientNet\")\n",
    "    hist = model.fit_generator(train_data, validation_data=test_data, epochs=100, callbacks=[checkpoint_best, checkpoint_last])\n",
    "    modelAPI.accuracy_plt(hist)\n",
    "    modelAPI.loss_plt(hist)\n",
    "    modelAPI.save_model(model,\"efficientnet.h5\")"
   ]
  },
  {
   "cell_type": "code",
   "execution_count": null,
   "metadata": {},
   "outputs": [],
   "source": []
  }
 ],
 "metadata": {
  "kernelspec": {
   "display_name": "new_tf",
   "language": "python",
   "name": "python3"
  },
  "language_info": {
   "name": "python",
   "version": "3.9.16"
  }
 },
 "nbformat": 4,
 "nbformat_minor": 2
}
