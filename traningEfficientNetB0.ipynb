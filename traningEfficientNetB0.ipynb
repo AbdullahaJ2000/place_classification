{
 "cells": [
  {
   "cell_type": "code",
   "execution_count": 1,
   "metadata": {},
   "outputs": [
    {
     "name": "stdout",
     "output_type": "stream",
     "text": [
      "WARNING:tensorflow:From c:\\Users\\anas malkawi\\Desktop\\tahaluf task\\New folder\\.venv\\Lib\\site-packages\\keras\\src\\losses.py:2976: The name tf.losses.sparse_softmax_cross_entropy is deprecated. Please use tf.compat.v1.losses.sparse_softmax_cross_entropy instead.\n",
      "\n"
     ]
    }
   ],
   "source": [
    "import CustomProcessingV3"
   ]
  },
  {
   "cell_type": "code",
   "execution_count": 2,
   "metadata": {},
   "outputs": [],
   "source": [
    "train_path = \"Data/train/\"\n",
    "test_path = \"Data/val/\""
   ]
  },
  {
   "cell_type": "code",
   "execution_count": 3,
   "metadata": {},
   "outputs": [
    {
     "name": "stdout",
     "output_type": "stream",
     "text": [
      "Found 3770 images belonging to 7 classes.\n",
      "Found 420 images belonging to 7 classes.\n"
     ]
    }
   ],
   "source": [
    "\n",
    "numberOfClass,train_data,test_data = CustomProcessingV3.class_number_and_data(train_path,test_path,augmentation=True)"
   ]
  },
  {
   "cell_type": "code",
   "execution_count": null,
   "metadata": {},
   "outputs": [],
   "source": [
    "CustomProcessingV3.sample_visulization(train_path)"
   ]
  },
  {
   "cell_type": "code",
   "execution_count": null,
   "metadata": {},
   "outputs": [],
   "source": [
    "CustomProcessingV3.sample_visulization(test_path)"
   ]
  },
  {
   "cell_type": "code",
   "execution_count": 4,
   "metadata": {},
   "outputs": [
    {
     "name": "stdout",
     "output_type": "stream",
     "text": [
      "WARNING:tensorflow:From c:\\Users\\anas malkawi\\Desktop\\tahaluf task\\New folder\\.venv\\Lib\\site-packages\\keras\\src\\backend.py:1398: The name tf.executing_eagerly_outside_functions is deprecated. Please use tf.compat.v1.executing_eagerly_outside_functions instead.\n",
      "\n",
      "WARNING:tensorflow:From c:\\Users\\anas malkawi\\Desktop\\tahaluf task\\New folder\\.venv\\Lib\\site-packages\\keras\\src\\layers\\normalization\\batch_normalization.py:979: The name tf.nn.fused_batch_norm is deprecated. Please use tf.compat.v1.nn.fused_batch_norm instead.\n",
      "\n",
      "Downloading data from https://storage.googleapis.com/keras-applications/efficientnetb0_notop.h5\n",
      "16705208/16705208 [==============================] - 3s 0us/step\n",
      "WARNING:tensorflow:From c:\\Users\\anas malkawi\\Desktop\\tahaluf task\\New folder\\.venv\\Lib\\site-packages\\keras\\src\\optimizers\\__init__.py:309: The name tf.train.Optimizer is deprecated. Please use tf.compat.v1.train.Optimizer instead.\n",
      "\n"
     ]
    }
   ],
   "source": [
    "modelefficientnet=CustomProcessingV3.model_create(numberOfClass)"
   ]
  },
  {
   "cell_type": "code",
   "execution_count": 5,
   "metadata": {},
   "outputs": [
    {
     "name": "stderr",
     "output_type": "stream",
     "text": [
      "C:\\Users\\anas malkawi\\AppData\\Local\\Temp\\ipykernel_25880\\1220939064.py:3: UserWarning: `Model.fit_generator` is deprecated and will be removed in a future version. Please use `Model.fit`, which supports generators.\n",
      "  hist_efficientnet = modelefficientnet.fit_generator(train_data, validation_data=test_data, epochs=8, callbacks=[checkpoint_best, checkpoint_last])\n"
     ]
    },
    {
     "name": "stdout",
     "output_type": "stream",
     "text": [
      "Epoch 1/8\n",
      "WARNING:tensorflow:From c:\\Users\\anas malkawi\\Desktop\\tahaluf task\\New folder\\.venv\\Lib\\site-packages\\keras\\src\\utils\\tf_utils.py:492: The name tf.ragged.RaggedTensorValue is deprecated. Please use tf.compat.v1.ragged.RaggedTensorValue instead.\n",
      "\n",
      "WARNING:tensorflow:From c:\\Users\\anas malkawi\\Desktop\\tahaluf task\\New folder\\.venv\\Lib\\site-packages\\keras\\src\\engine\\base_layer_utils.py:384: The name tf.executing_eagerly_outside_functions is deprecated. Please use tf.compat.v1.executing_eagerly_outside_functions instead.\n",
      "\n",
      "118/118 [==============================] - ETA: 0s - loss: 0.5163 - accuracy: 0.8326\n",
      "Epoch 1: val_loss improved from inf to 5.62879, saving model to ./models\\best_efficientnet.h5\n"
     ]
    },
    {
     "name": "stderr",
     "output_type": "stream",
     "text": [
      "c:\\Users\\anas malkawi\\Desktop\\tahaluf task\\New folder\\.venv\\Lib\\site-packages\\keras\\src\\engine\\training.py:3103: UserWarning: You are saving your model as an HDF5 file via `model.save()`. This file format is considered legacy. We recommend using instead the native Keras format, e.g. `model.save('my_model.keras')`.\n",
      "  saving_api.save_model(\n"
     ]
    },
    {
     "name": "stdout",
     "output_type": "stream",
     "text": [
      "\n",
      "Epoch 1: saving model to ./models\\last_efficientnet.h5\n",
      "118/118 [==============================] - 797s 6s/step - loss: 0.5163 - accuracy: 0.8326 - val_loss: 5.6288 - val_accuracy: 0.1190\n",
      "Epoch 2/8\n",
      "118/118 [==============================] - ETA: 0s - loss: 0.2390 - accuracy: 0.9228\n",
      "Epoch 2: val_loss improved from 5.62879 to 2.69247, saving model to ./models\\best_efficientnet.h5\n",
      "\n",
      "Epoch 2: saving model to ./models\\last_efficientnet.h5\n",
      "118/118 [==============================] - 645s 5s/step - loss: 0.2390 - accuracy: 0.9228 - val_loss: 2.6925 - val_accuracy: 0.1429\n",
      "Epoch 3/8\n",
      "118/118 [==============================] - ETA: 0s - loss: 0.1694 - accuracy: 0.9485\n",
      "Epoch 3: val_loss did not improve from 2.69247\n",
      "\n",
      "Epoch 3: saving model to ./models\\last_efficientnet.h5\n",
      "118/118 [==============================] - 604s 5s/step - loss: 0.1694 - accuracy: 0.9485 - val_loss: 4.5322 - val_accuracy: 0.1429\n",
      "Epoch 4/8\n",
      "118/118 [==============================] - ETA: 0s - loss: 0.1589 - accuracy: 0.9496\n",
      "Epoch 4: val_loss did not improve from 2.69247\n",
      "\n",
      "Epoch 4: saving model to ./models\\last_efficientnet.h5\n",
      "118/118 [==============================] - 574s 5s/step - loss: 0.1589 - accuracy: 0.9496 - val_loss: 4.5600 - val_accuracy: 0.1190\n",
      "Epoch 5/8\n",
      "118/118 [==============================] - ETA: 0s - loss: 0.1380 - accuracy: 0.9586\n",
      "Epoch 5: val_loss did not improve from 2.69247\n",
      "\n",
      "Epoch 5: saving model to ./models\\last_efficientnet.h5\n",
      "118/118 [==============================] - 568s 5s/step - loss: 0.1380 - accuracy: 0.9586 - val_loss: 3.0030 - val_accuracy: 0.1595\n",
      "Epoch 6/8\n",
      "118/118 [==============================] - ETA: 0s - loss: 0.1674 - accuracy: 0.9496\n",
      "Epoch 6: val_loss did not improve from 2.69247\n",
      "\n",
      "Epoch 6: saving model to ./models\\last_efficientnet.h5\n",
      "118/118 [==============================] - 569s 5s/step - loss: 0.1674 - accuracy: 0.9496 - val_loss: 5.2198 - val_accuracy: 0.1595\n",
      "Epoch 7/8\n",
      "118/118 [==============================] - ETA: 0s - loss: 0.1301 - accuracy: 0.9586\n",
      "Epoch 7: val_loss did not improve from 2.69247\n",
      "\n",
      "Epoch 7: saving model to ./models\\last_efficientnet.h5\n",
      "118/118 [==============================] - 567s 5s/step - loss: 0.1301 - accuracy: 0.9586 - val_loss: 3.2252 - val_accuracy: 0.1429\n",
      "Epoch 8/8\n",
      "118/118 [==============================] - ETA: 0s - loss: 0.1057 - accuracy: 0.9663\n",
      "Epoch 8: val_loss did not improve from 2.69247\n",
      "\n",
      "Epoch 8: saving model to ./models\\last_efficientnet.h5\n",
      "118/118 [==============================] - 566s 5s/step - loss: 0.1057 - accuracy: 0.9663 - val_loss: 3.4258 - val_accuracy: 0.1405\n"
     ]
    }
   ],
   "source": [
    "batch_size = 32\n",
    "checkpoint_best,checkpoint_last = CustomProcessingV3.creat_checkpoint(\"efficientnet\")\n",
    "hist_efficientnet = modelefficientnet.fit_generator(train_data, validation_data=test_data, epochs=8, callbacks=[checkpoint_best, checkpoint_last])"
   ]
  },
  {
   "cell_type": "code",
   "execution_count": 6,
   "metadata": {},
   "outputs": [
    {
     "data": {
      "image/png": "[encoded data removed]",
      "text/plain": [
       "<Figure size 640x480 with 1 Axes>"
      ]
     },
     "metadata": {},
     "output_type": "display_data"
    }
   ],
   "source": [
    "CustomProcessingV3.accuracy_plt(hist_efficientnet)"
   ]
  },
  {
   "cell_type": "code",
   "execution_count": 7,
   "metadata": {},
   "outputs": [
    {
     "data": {
      "image/png": "[encoded data removed]",
      "text/plain": [
       "<Figure size 640x480 with 1 Axes>"
      ]
     },
     "metadata": {},
     "output_type": "display_data"
    }
   ],
   "source": [
    "CustomProcessingV3.loss_plt(hist_efficientnet)"
   ]
  },
  {
   "cell_type": "code",
   "execution_count": null,
   "metadata": {},
   "outputs": [],
   "source": [
    "import os\n",
    "import numpy as np\n",
    "from tensorflow.keras.models import load_model\n",
    "from sklearn.metrics import precision_score, f1_score\n",
    "from sklearn.metrics import accuracy_score, precision_score, recall_score, f1_score\n",
    "import matplotlib.pyplot as plt\n",
    "import seaborn as sns\n",
    "from sklearn.metrics import accuracy_score, precision_score, recall_score, f1_score, confusion_matrix, classification_report\n",
    "from sklearn.preprocessing import LabelEncoder\n",
    "import tensorflow as tf\n",
    "\n",
    "\n",
    "model = load_model('models\\last_efficientnet.h5')\n",
    "\n",
    "data_directory = 'Data/val'\n",
    "class_names = os.listdir(data_directory)\n",
    "\n",
    "images = []\n",
    "true_labels = []\n",
    "def preprocess_image(path):\n",
    "    img = load_img(image_path, target_size=(224, 224))\n",
    "    img_array = img_to_array(img)\n",
    "    img_array = np.expand_dims(img_array, axis=0)\n",
    "    img_array /= 255.0 \n",
    "\n",
    "    return img_array\n",
    "\n",
    "for class_name in class_names:\n",
    "    class_path = os.path.join(data_directory, class_name)\n",
    "    for filename in os.listdir(class_path):\n",
    "        image_path = os.path.join(class_path, filename)\n",
    "        image = tf.keras.preprocessing.image.load_img(image_path, target_size=(224, 224))\n",
    "        image = tf.keras.preprocessing.image.img_to_array(image)/255\n",
    "        \n",
    "        images.append(image)\n",
    "\n",
    "        true_labels.append(class_name)\n",
    "\n",
    "from sklearn.preprocessing import LabelEncoder\n",
    "\n",
    "label_encoder = LabelEncoder()\n",
    "true_labels_numeric = label_encoder.fit_transform(true_labels)\n",
    "\n",
    "\n",
    "predictions = model.predict(np.array(images))\n",
    "predicted_labels = np.argmax(predictions, axis=1)\n",
    "\n",
    "accuracy = accuracy_score(true_labels_numeric, predicted_labels)\n",
    "precision = precision_score(true_labels_numeric, predicted_labels, average='weighted')\n",
    "recall = recall_score(true_labels_numeric, predicted_labels, average='weighted')\n",
    "f1 = f1_score(true_labels_numeric, predicted_labels, average='weighted')\n",
    "\n",
    "conf_matrix = confusion_matrix(true_labels_numeric, predicted_labels)\n",
    "\n",
    "\n",
    "plt.figure(figsize=(8, 6))\n",
    "sns.heatmap(conf_matrix, annot=True, fmt='d', cmap='Blues', xticklabels=class_names, yticklabels=class_names)\n",
    "plt.title('Confusion Matrix')\n",
    "plt.xlabel('Predicted Labels')\n",
    "plt.ylabel('True Labels')\n",
    "plt.show()\n",
    "\n",
    "class_report = classification_report(true_labels_numeric, predicted_labels, target_names=class_names)\n",
    "\n",
    "print(f'Accuracy: {accuracy:.4f}')\n",
    "print(f'Precision: {precision:.4f}')\n",
    "print(f'Recall: {recall:.4f}')\n",
    "print(f'F1 Score: {f1:.4f}')\n",
    "\n",
    "print('\\nClassification Report:')\n",
    "print(class_report)"
   ]
  },
  {
   "cell_type": "code",
   "execution_count": null,
   "metadata": {},
   "outputs": [],
   "source": []
  }
 ],
 "metadata": {
  "kernelspec": {
   "display_name": "venv",
   "language": "python",
   "name": "python3"
  },
  "language_info": {
   "codemirror_mode": {
    "name": "ipython",
    "version": 3
   },
   "file_extension": ".py",
   "mimetype": "text/x-python",
   "name": "python",
   "nbconvert_exporter": "python",
   "pygments_lexer": "ipython3",
   "version": "3.11.7"
  }
 },
 "nbformat": 4,
 "nbformat_minor": 2
}
